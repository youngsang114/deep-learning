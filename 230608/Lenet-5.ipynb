{
 "cells": [
  {
   "attachments": {},
   "cell_type": "markdown",
   "metadata": {},
   "source": [
    "tf.keras.layers.Conv2D \n",
    "- filters: 커널의 수\n",
    "    - kernel_size : 커널의 크기\n",
    "    - strides=(1, 1) : 몇칸을 이동할지\n",
    "    - padding='valid','same'(0으로 모든부분 감싸기)"
   ]
  },
  {
   "cell_type": "code",
   "execution_count": 1,
   "metadata": {},
   "outputs": [],
   "source": [
    "import datetime\n",
    "import numpy as np\n",
    "import tensorflow as tf\n",
    "import matplotlib.pyplot as plt\n",
    "\n",
    "from tensorflow.keras import Model\n",
    "from tensorflow.keras.models import Sequential\n",
    "from tensorflow.keras.losses import categorical_crossentropy\n",
    "from tensorflow.keras.layers import Dense, Flatten, Conv2D, AveragePooling2D\n",
    "\n",
    "from tensorflow.keras import datasets\n",
    "from tensorflow.keras.utils import to_categorical"
   ]
  },
  {
   "attachments": {},
   "cell_type": "markdown",
   "metadata": {},
   "source": [
    "> Lenet-5 Model class"
   ]
  },
  {
   "cell_type": "code",
   "execution_count": 3,
   "metadata": {},
   "outputs": [],
   "source": [
    "class Lenet(Sequential):\n",
    "    def __init__(self, input_shape, np_classes):\n",
    "        super().__init__()\n",
    "        ## 데이터 전처리\n",
    "        self.add(Conv2D(6, kernel_size=(5,5), strides=(1,1), padding='same', activation='tanh',input_shape=input_shape))\n",
    "        self.add(AveragePooling2D(pool_size=(2, 2),strides=(2,2),padding='valid'))\n",
    "\n",
    "        self.add(Conv2D(16, kernel_size=(5,5), strides=(1,1), padding='valid', activation='tanh'))\n",
    "        self.add(AveragePooling2D(pool_size=(2, 2),strides=(2,2),padding='valid'))\n",
    "        self.add(Flatten())\n",
    "        self.add(Dense(120, activation='tanh'))\n",
    "        ## \n",
    "        self.add(Dense(84, activation='tanh'))\n",
    "        self.add(Dense(10, activation='softmax'))\n",
    "\n",
    "        self.compile(optimizer='adam', loss='categorical_crossentropy', metrics=['accuracy'])\n",
    "        "
   ]
  },
  {
   "cell_type": "code",
   "execution_count": 4,
   "metadata": {},
   "outputs": [],
   "source": [
    "from tensorflow.keras.datasets import mnist\n",
    "\n",
    "(X_train,y_train),(X_test,y_test)= mnist.load_data()"
   ]
  },
  {
   "cell_type": "code",
   "execution_count": 5,
   "metadata": {},
   "outputs": [],
   "source": [
    "# label one_hot encoding\n",
    "\n",
    "y_train=to_categorical(y_train,10)\n",
    "y_test=to_categorical(y_test,10)"
   ]
  },
  {
   "cell_type": "code",
   "execution_count": 6,
   "metadata": {},
   "outputs": [],
   "source": [
    "X_train,X_test = X_train/255.0,X_test/255.0\n",
    "X_train=X_train.reshape((60000,28,28,1))\n",
    "X_test=X_test.reshape((10000,28,28,1))"
   ]
  },
  {
   "cell_type": "code",
   "execution_count": 7,
   "metadata": {},
   "outputs": [
    {
     "name": "stdout",
     "output_type": "stream",
     "text": [
      "Model: \"lenet\"\n",
      "_________________________________________________________________\n",
      " Layer (type)                Output Shape              Param #   \n",
      "=================================================================\n",
      " conv2d (Conv2D)             (None, 28, 28, 6)         156       \n",
      "                                                                 \n",
      " average_pooling2d (AverageP  (None, 14, 14, 6)        0         \n",
      " ooling2D)                                                       \n",
      "                                                                 \n",
      " conv2d_1 (Conv2D)           (None, 10, 10, 16)        2416      \n",
      "                                                                 \n",
      " average_pooling2d_1 (Averag  (None, 5, 5, 16)         0         \n",
      " ePooling2D)                                                     \n",
      "                                                                 \n",
      " flatten (Flatten)           (None, 400)               0         \n",
      "                                                                 \n",
      " dense (Dense)               (None, 120)               48120     \n",
      "                                                                 \n",
      " dense_1 (Dense)             (None, 84)                10164     \n",
      "                                                                 \n",
      " dense_2 (Dense)             (None, 10)                850       \n",
      "                                                                 \n",
      "=================================================================\n",
      "Total params: 61,706\n",
      "Trainable params: 61,706\n",
      "Non-trainable params: 0\n",
      "_________________________________________________________________\n"
     ]
    }
   ],
   "source": [
    "model = Lenet(X_train[0].shape , 10)\n",
    "model.summary()"
   ]
  },
  {
   "cell_type": "code",
   "execution_count": 8,
   "metadata": {},
   "outputs": [],
   "source": [
    "log_dir= '/logs/fit/'+datetime.datetime.now().strftime(\"%Y%m%d-%H%M%S\")\n",
    "\n",
    "tensorboard_callback = tf.keras.callbacks.TensorBoard(log_dir=log_dir, histogram_freq=1)"
   ]
  },
  {
   "cell_type": "code",
   "execution_count": 9,
   "metadata": {},
   "outputs": [
    {
     "name": "stdout",
     "output_type": "stream",
     "text": [
      "Epoch 1/20\n",
      "1875/1875 [==============================] - 18s 9ms/step - loss: 0.2273 - accuracy: 0.9317 - val_loss: 0.0991 - val_accuracy: 0.9669\n",
      "Epoch 2/20\n",
      "1875/1875 [==============================] - 16s 8ms/step - loss: 0.0865 - accuracy: 0.9734 - val_loss: 0.0759 - val_accuracy: 0.9778\n",
      "Epoch 3/20\n",
      "1875/1875 [==============================] - 18s 10ms/step - loss: 0.0584 - accuracy: 0.9824 - val_loss: 0.0613 - val_accuracy: 0.9804\n",
      "Epoch 4/20\n",
      "1875/1875 [==============================] - 16s 9ms/step - loss: 0.0439 - accuracy: 0.9862 - val_loss: 0.0503 - val_accuracy: 0.9849\n",
      "Epoch 5/20\n",
      "1875/1875 [==============================] - 16s 9ms/step - loss: 0.0371 - accuracy: 0.9881 - val_loss: 0.0506 - val_accuracy: 0.9829\n",
      "Epoch 6/20\n",
      "1875/1875 [==============================] - 16s 9ms/step - loss: 0.0299 - accuracy: 0.9905 - val_loss: 0.0545 - val_accuracy: 0.9836\n",
      "Epoch 7/20\n",
      "1875/1875 [==============================] - 15s 8ms/step - loss: 0.0259 - accuracy: 0.9916 - val_loss: 0.0514 - val_accuracy: 0.9835\n",
      "Epoch 8/20\n",
      "1875/1875 [==============================] - 16s 8ms/step - loss: 0.0212 - accuracy: 0.9933 - val_loss: 0.0584 - val_accuracy: 0.9842\n",
      "Epoch 9/20\n",
      "1875/1875 [==============================] - 16s 8ms/step - loss: 0.0174 - accuracy: 0.9942 - val_loss: 0.0600 - val_accuracy: 0.9842\n",
      "Epoch 10/20\n",
      "1875/1875 [==============================] - 15s 8ms/step - loss: 0.0180 - accuracy: 0.9941 - val_loss: 0.0551 - val_accuracy: 0.9853\n",
      "Epoch 11/20\n",
      "1875/1875 [==============================] - 15s 8ms/step - loss: 0.0145 - accuracy: 0.9954 - val_loss: 0.0547 - val_accuracy: 0.9857\n",
      "Epoch 12/20\n",
      "1875/1875 [==============================] - 16s 8ms/step - loss: 0.0137 - accuracy: 0.9953 - val_loss: 0.0534 - val_accuracy: 0.9856\n",
      "Epoch 13/20\n",
      "1875/1875 [==============================] - 16s 8ms/step - loss: 0.0141 - accuracy: 0.9953 - val_loss: 0.0447 - val_accuracy: 0.9870\n",
      "Epoch 14/20\n",
      "1875/1875 [==============================] - 16s 8ms/step - loss: 0.0112 - accuracy: 0.9961 - val_loss: 0.0530 - val_accuracy: 0.9864\n",
      "Epoch 15/20\n",
      "1875/1875 [==============================] - 16s 9ms/step - loss: 0.0101 - accuracy: 0.9964 - val_loss: 0.0493 - val_accuracy: 0.9869\n",
      "Epoch 16/20\n",
      "1875/1875 [==============================] - 16s 8ms/step - loss: 0.0099 - accuracy: 0.9966 - val_loss: 0.0555 - val_accuracy: 0.9861\n",
      "Epoch 17/20\n",
      "1875/1875 [==============================] - 16s 8ms/step - loss: 0.0096 - accuracy: 0.9969 - val_loss: 0.0583 - val_accuracy: 0.9853\n",
      "Epoch 18/20\n",
      "1875/1875 [==============================] - 16s 9ms/step - loss: 0.0085 - accuracy: 0.9970 - val_loss: 0.0544 - val_accuracy: 0.9867\n",
      "Epoch 19/20\n",
      "1875/1875 [==============================] - 16s 8ms/step - loss: 0.0088 - accuracy: 0.9971 - val_loss: 0.0574 - val_accuracy: 0.9854\n",
      "Epoch 20/20\n",
      "1875/1875 [==============================] - 16s 9ms/step - loss: 0.0077 - accuracy: 0.9976 - val_loss: 0.0566 - val_accuracy: 0.9857\n"
     ]
    },
    {
     "data": {
      "text/plain": [
       "<keras.callbacks.History at 0x2754f1dbd00>"
      ]
     },
     "execution_count": 9,
     "metadata": {},
     "output_type": "execute_result"
    }
   ],
   "source": [
    "model.fit(X_train,y_train, epochs=20, validation_data=(X_test,y_test),verbose=1,callbacks=[tensorboard_callback])"
   ]
  },
  {
   "cell_type": "code",
   "execution_count": 10,
   "metadata": {},
   "outputs": [],
   "source": [
    "%load_ext tensorboard"
   ]
  },
  {
   "cell_type": "code",
   "execution_count": 12,
   "metadata": {},
   "outputs": [
    {
     "data": {
      "text/html": [
       "\n",
       "      <iframe id=\"tensorboard-frame-4e152aff87f293a6\" width=\"100%\" height=\"800\" frameborder=\"0\">\n",
       "      </iframe>\n",
       "      <script>\n",
       "        (function() {\n",
       "          const frame = document.getElementById(\"tensorboard-frame-4e152aff87f293a6\");\n",
       "          const url = new URL(\"http://localhost\");\n",
       "          const port = 6006;\n",
       "          if (port) {\n",
       "            url.port = port;\n",
       "          }\n",
       "          frame.src = url;\n",
       "        })();\n",
       "      </script>\n",
       "    "
      ],
      "text/plain": [
       "<IPython.core.display.HTML object>"
      ]
     },
     "metadata": {},
     "output_type": "display_data"
    }
   ],
   "source": [
    "%tensorboard --logdir logs/fit"
   ]
  },
  {
   "cell_type": "code",
   "execution_count": null,
   "metadata": {},
   "outputs": [],
   "source": []
  }
 ],
 "metadata": {
  "kernelspec": {
   "display_name": "Python 3",
   "language": "python",
   "name": "python3"
  },
  "language_info": {
   "codemirror_mode": {
    "name": "ipython",
    "version": 3
   },
   "file_extension": ".py",
   "mimetype": "text/x-python",
   "name": "python",
   "nbconvert_exporter": "python",
   "pygments_lexer": "ipython3",
   "version": "3.10.9"
  },
  "orig_nbformat": 4
 },
 "nbformat": 4,
 "nbformat_minor": 2
}
