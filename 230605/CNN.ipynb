{
 "cells": [
  {
   "attachments": {},
   "cell_type": "markdown",
   "metadata": {},
   "source": [
    "#  영상 인식(image recognition)\n",
    "    - 전처리\n",
    "    - 특징 추출\n",
    "    - 분류"
   ]
  },
  {
   "attachments": {},
   "cell_type": "markdown",
   "metadata": {},
   "source": [
    "## Convolution Neural Network(CNN)\n",
    "- Conv2D(n, kernel_size, input_shape, activation)\n",
    "- 하나의 이미지--> 특징만 추출하는 여러개의 마스킹된 이미지들을 만들어서 학습에 이용\n",
    "- 이 전처리 과정을 DNN안에 넣어준다\n",
    "- 컨볼루션, 서브 샘플링(pooling)을 여러번 반복 후 학습\n",
    "    - 마스크, 커널 \n",
    "    - 컨벌루션(Convolution), 합성곱 : 컨벌루젼 과정으로 특징만 추출\n",
    "    - 서브 샘플링, Pooling : 컨벌루션 과정으로 생성된 데이터의 크기를 줄임(특징만 뽑아서 크기를 줄인다)\n",
    "        - max pooling\n",
    "        - average pooling\n",
    "    - Stride : 마스크가 옆으로 얼마나 이동하는지 \n",
    "- 드롭아웃(drop out): 은닉충에 배치된 노드 중 일부만 이용해서 계산한 값을 업데이트, 과적합을 효율적으로 피하는 방법\n",
    "- Flatten() : 1차원으로 배열을 바꿔준다\n",
    "- padding: 가장자리의 특징을 살리는 방법, 주변을 0으로 둘러싸여준다"
   ]
  },
  {
   "cell_type": "code",
   "execution_count": 3,
   "metadata": {},
   "outputs": [],
   "source": [
    "import tensorflow as tf\n",
    "import pandas as pd\n",
    "import numpy as np\n",
    "import matplotlib.pyplot as plt\n",
    "import seaborn as sns\n",
    "import os\n",
    "\n",
    "from keras.models import Sequential\n",
    "from keras.layers import Dense,Dropout,Conv2D,MaxPooling2D, Flatten\n",
    "from keras.datasets import mnist\n",
    "from keras.utils import np_utils\n",
    "from keras.callbacks import ModelCheckpoint,EarlyStopping"
   ]
  },
  {
   "cell_type": "code",
   "execution_count": 5,
   "metadata": {},
   "outputs": [],
   "source": [
    "seed =0\n",
    "np.random.seed(seed)\n",
    "tf.random.set_seed(3)\n",
    "\n",
    "## 전처리\n",
    "(X_train,Y_train),(X_test,Y_test)= mnist.load_data()\n",
    "X_train= X_train.reshape(X_train.shape[0], 28,28,1).astype('float64')/255\n",
    "X_test= X_test.reshape(X_test.shape[0], 28,28,1).astype('float64')/255\n",
    "Y_train= tf.keras.utils.to_categorical(Y_train)\n",
    "Y_test= tf.keras.utils.to_categorical(Y_test)\n",
    "\n",
    "## 모델\n",
    "model= Sequential()\n",
    "model.add(Conv2D(32,kernel_size=(3,3), input_shape=(28,28,1), activation='relu'))\n",
    "model.add(Conv2D(64,kernel_size=(3,3),activation='relu'))\n",
    "model.add(MaxPooling2D(pool_size=2))\n",
    "model.add(Dropout(0.25))\n",
    "model.add(Flatten())\n",
    "###\n",
    "model.add(Dense(128,activation='relu'))\n",
    "model.add(Dropout(0.5))\n",
    "model.add(Dense(10,activation='softmax'))\n",
    "\n",
    "## 모델 실행 환경\n",
    "model.compile(loss='categorical_crossentropy',\n",
    "              optimizer='adam',\n",
    "              metrics=['accuracy'])\n",
    "\n",
    "## 모델 저장, 모델 최적화 단계에서 early stop\n",
    "\n",
    "MODEL_DIR= './model/'\n",
    "if not os.path.exists(MODEL_DIR):\n",
    "    os.mkdir(MODEL_DIR)\n",
    "\n",
    "modelpath='./model/{epoch:02d}-{val_loss:.4f}.hdf5'\n",
    "checkpointer=ModelCheckpoint(filepath=modelpath,monitor='val_loss',\n",
    "                             verbose=1,save_best_only=True)\n",
    "early_stopping_callback =EarlyStopping(monitor='val_loss',patience=10)"
   ]
  },
  {
   "cell_type": "code",
   "execution_count": 6,
   "metadata": {},
   "outputs": [
    {
     "name": "stdout",
     "output_type": "stream",
     "text": [
      "\n",
      "Epoch 1: val_loss improved from inf to 0.05672, saving model to ./model\\01-0.0567.hdf5\n",
      "\n",
      "Epoch 2: val_loss improved from 0.05672 to 0.04297, saving model to ./model\\02-0.0430.hdf5\n",
      "\n",
      "Epoch 3: val_loss improved from 0.04297 to 0.03767, saving model to ./model\\03-0.0377.hdf5\n",
      "\n",
      "Epoch 4: val_loss improved from 0.03767 to 0.03446, saving model to ./model\\04-0.0345.hdf5\n",
      "\n",
      "Epoch 5: val_loss improved from 0.03446 to 0.03278, saving model to ./model\\05-0.0328.hdf5\n",
      "\n",
      "Epoch 6: val_loss improved from 0.03278 to 0.02829, saving model to ./model\\06-0.0283.hdf5\n",
      "\n",
      "Epoch 7: val_loss improved from 0.02829 to 0.02588, saving model to ./model\\07-0.0259.hdf5\n",
      "\n",
      "Epoch 8: val_loss did not improve from 0.02588\n",
      "\n",
      "Epoch 9: val_loss did not improve from 0.02588\n",
      "\n",
      "Epoch 10: val_loss did not improve from 0.02588\n",
      "\n",
      "Epoch 11: val_loss did not improve from 0.02588\n",
      "\n",
      "Epoch 12: val_loss did not improve from 0.02588\n",
      "\n",
      "Epoch 13: val_loss improved from 0.02588 to 0.02400, saving model to ./model\\13-0.0240.hdf5\n",
      "\n",
      "Epoch 14: val_loss did not improve from 0.02400\n",
      "\n",
      "Epoch 15: val_loss did not improve from 0.02400\n",
      "\n",
      "Epoch 16: val_loss did not improve from 0.02400\n",
      "\n",
      "Epoch 17: val_loss did not improve from 0.02400\n",
      "\n",
      "Epoch 18: val_loss did not improve from 0.02400\n",
      "\n",
      "Epoch 19: val_loss did not improve from 0.02400\n",
      "\n",
      "Epoch 20: val_loss did not improve from 0.02400\n",
      "\n",
      "Epoch 21: val_loss did not improve from 0.02400\n",
      "\n",
      "Epoch 22: val_loss did not improve from 0.02400\n",
      "\n",
      "Epoch 23: val_loss did not improve from 0.02400\n"
     ]
    }
   ],
   "source": [
    "history= model.fit(X_train,Y_train,validation_data=(X_test,Y_test),epochs=30,batch_size=200,verbose=0,\n",
    "                   callbacks=[early_stopping_callback,checkpointer])"
   ]
  },
  {
   "cell_type": "code",
   "execution_count": 7,
   "metadata": {},
   "outputs": [
    {
     "name": "stdout",
     "output_type": "stream",
     "text": [
      "313/313 [==============================] - 2s 6ms/step - loss: 0.0292 - accuracy: 0.9922\n",
      "\n",
      " Test Accuracy: 0.9922\n"
     ]
    },
    {
     "data": {
      "image/png": "[encoded data removed]",
      "text/plain": [
       "<Figure size 640x480 with 1 Axes>"
      ]
     },
     "metadata": {},
     "output_type": "display_data"
    }
   ],
   "source": [
    "# 테스트 정확도 출력\n",
    "print('\\n Test Accuracy: %.4f' %(model.evaluate(X_test,Y_test)[1]))\n",
    "\n",
    "# 테스트셋 오차\n",
    "y_vloss= history.history['val_loss']\n",
    "\n",
    "# 트레인셋 오차\n",
    "y_loss= history.history['loss']\n",
    "\n",
    "# 그래프\n",
    "X_len=np.arange(len(y_loss))\n",
    "plt.plot(X_len, y_vloss, marker='.', c='red', label= 'Testset_loss')\n",
    "plt.plot(X_len, y_loss, marker='.', c='blue', label= 'Trainset_loss')\n",
    "\n",
    "plt.legend(loc='upper right')\n",
    "plt.grid()\n",
    "plt.xlabel('epoch')\n",
    "plt.ylabel('loss')\n",
    "plt.show()"
   ]
  },
  {
   "cell_type": "code",
   "execution_count": 12,
   "metadata": {},
   "outputs": [
    {
     "name": "stdout",
     "output_type": "stream",
     "text": [
      "Epoch 1/5\n",
      "1875/1875 [==============================] - 3s 1ms/step - loss: 0.4917 - accuracy: 0.8271\n",
      "Epoch 2/5\n",
      "1875/1875 [==============================] - 2s 1ms/step - loss: 0.3757 - accuracy: 0.8651\n",
      "Epoch 3/5\n",
      "1875/1875 [==============================] - 2s 1ms/step - loss: 0.3359 - accuracy: 0.8776\n",
      "Epoch 4/5\n",
      "1875/1875 [==============================] - 2s 1ms/step - loss: 0.3139 - accuracy: 0.8850\n",
      "Epoch 5/5\n",
      "1875/1875 [==============================] - 2s 1ms/step - loss: 0.2960 - accuracy: 0.8910\n",
      "313/313 [==============================] - 0s 758us/step - loss: 0.3394 - accuracy: 0.8773\n",
      "정확도: 0.8773000240325928\n"
     ]
    }
   ],
   "source": [
    "import tensorflow as tf\n",
    "from tensorflow import keras\n",
    "import numpy as np\n",
    "import matplotlib.pyplot as plt\n",
    "from tensorflow.keras import datasets, layers, models\n",
    "fashion_mnist = keras.datasets.fashion_mnist\n",
    "(train_images, train_labels), (test_images, test_labels) = fashion_mnist.load_data()\n",
    "train_images = train_images / 255.0\n",
    "test_images = test_images / 255.0\n",
    "model = models.Sequential()\n",
    "model.add(layers.Flatten(input_shape=(28, 28)))\n",
    "model.add(layers.Dense(128, activation='relu'))\n",
    "model.add(layers.Dense(10, activation='softmax'))\n",
    "\n",
    "model.compile(optimizer='adam',\n",
    "loss='sparse_categorical_crossentropy',\n",
    "metrics=['accuracy'])\n",
    "model.fit(train_images, train_labels, epochs=5)\n",
    "test_loss, test_acc = model.evaluate(test_images, test_labels)\n",
    "print('정확도:', test_acc)"
   ]
  },
  {
   "cell_type": "code",
   "execution_count": 9,
   "metadata": {},
   "outputs": [
    {
     "name": "stdout",
     "output_type": "stream",
     "text": [
      "Epoch 1/5\n",
      "1875/1875 [==============================] - 20s 10ms/step - loss: 0.4867 - accuracy: 0.8183\n",
      "Epoch 2/5\n",
      "1875/1875 [==============================] - 21s 11ms/step - loss: 0.3193 - accuracy: 0.8820\n",
      "Epoch 3/5\n",
      "1875/1875 [==============================] - 21s 11ms/step - loss: 0.2740 - accuracy: 0.8981\n",
      "Epoch 4/5\n",
      "1875/1875 [==============================] - 21s 11ms/step - loss: 0.2474 - accuracy: 0.9080\n",
      "Epoch 5/5\n",
      "1875/1875 [==============================] - 21s 11ms/step - loss: 0.2201 - accuracy: 0.9180\n",
      "313/313 [==============================] - 1s 4ms/step - loss: 0.2587 - accuracy: 0.9067\n",
      "정확도: 0.9067000150680542\n"
     ]
    }
   ],
   "source": [
    "import tensorflow as tf\n",
    "from tensorflow import keras\n",
    "import numpy as np\n",
    "import matplotlib.pyplot as plt\n",
    "from tensorflow.keras import datasets, layers, models\n",
    "fashion_mnist = keras.datasets.fashion_mnist\n",
    "(train_images, train_labels), (test_images, test_labels) = fashion_mnist.load_data()\n",
    "\n",
    "train_images = train_images.reshape((60000, 28, 28, 1))\n",
    "test_images = test_images.reshape((10000, 28, 28, 1))\n",
    "train_images = train_images / 255.0\n",
    "test_images = test_images / 255.0\n",
    "model = models.Sequential()\n",
    "model.add(layers.Conv2D(32, (3, 3), activation='relu', input_shape=(28, 28, 1)))\n",
    "model.add(layers.MaxPooling2D((2, 2)))\n",
    "model.add(layers.Conv2D(64, (3, 3), activation='relu'))\n",
    "model.add(layers.MaxPooling2D((2, 2)))\n",
    "model.add(layers.Conv2D(64, (3, 3), activation='relu'))\n",
    "\n",
    "model.add(layers.Flatten())\n",
    "model.add(layers.Dense(64, activation='relu'))\n",
    "model.add(layers.Dense(10, activation='softmax'))\n",
    "model.compile(optimizer='adam',\n",
    "loss='sparse_categorical_crossentropy',\n",
    "metrics=['accuracy'])\n",
    "model.fit(train_images, train_labels, epochs=5)\n",
    "test_loss, test_acc = model.evaluate(test_images, test_labels)\n",
    "print('정확도:', test_acc)"
   ]
  }
 ],
 "metadata": {
  "kernelspec": {
   "display_name": "Python 3",
   "language": "python",
   "name": "python3"
  },
  "language_info": {
   "codemirror_mode": {
    "name": "ipython",
    "version": 3
   },
   "file_extension": ".py",
   "mimetype": "text/x-python",
   "name": "python",
   "nbconvert_exporter": "python",
   "pygments_lexer": "ipython3",
   "version": "3.10.9"
  },
  "orig_nbformat": 4
 },
 "nbformat": 4,
 "nbformat_minor": 2
}
