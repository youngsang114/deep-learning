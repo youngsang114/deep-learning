{
 "cells": [
  {
   "cell_type": "code",
   "execution_count": 4,
   "metadata": {},
   "outputs": [],
   "source": [
    "import numpy as np\n",
    "\n",
    "# 가중치와 바이어스\n",
    "w11= np.array([-2,-2])\n",
    "w12= np.array([2,2])\n",
    "w2= np.array([1,1])\n",
    "b1=3\n",
    "b2=-1\n",
    "b3=-1\n",
    "\n",
    "#퍼셉트론\n",
    "def MLP(x,w,b):\n",
    "    y=np.sum(w*x)+b\n",
    "    if y<=0:\n",
    "        return 0\n",
    "    else:\n",
    "        return 1\n",
    "\n",
    "#NAND 게이트\n",
    "def NAND(x1,x2):\n",
    "    return MLP(np.array([x1,x2]), w11,b1)\n",
    "\n",
    "# OR 게이트\n",
    "def OR(x1,x2):\n",
    "    return MLP(np.array([x1,x2]), w12,b2)\n",
    "\n",
    "# AND 게이트\n",
    "def AND(x1,x2):\n",
    "    return MLP(np.array([x1,x2]), w2,b3)\n",
    "\n",
    "# XOR 게이트\n",
    "def XOR(x1,x2):\n",
    "    return AND(NAND(x1,x2),OR(x1,x2))\n"
   ]
  },
  {
   "cell_type": "code",
   "execution_count": 5,
   "metadata": {},
   "outputs": [
    {
     "name": "stdout",
     "output_type": "stream",
     "text": [
      "입력값:(0, 0)출력값:0\n",
      "입력값:(1, 0)출력값:1\n",
      "입력값:(0, 1)출력값:1\n",
      "입력값:(1, 1)출력값:0\n"
     ]
    }
   ],
   "source": [
    "if __name__ =='__main__':\n",
    "    for x in [(0,0),(1,0),(0,1),(1,1)]:\n",
    "        y=XOR(x[0],x[1])\n",
    "        print('입력값:'+str(x)+'출력값:'+str(y))"
   ]
  },
  {
   "cell_type": "code",
   "execution_count": 6,
   "metadata": {},
   "outputs": [
    {
     "data": {
      "text/plain": [
       "28.0"
      ]
     },
     "execution_count": 6,
     "metadata": {},
     "output_type": "execute_result"
    }
   ],
   "source": [
    "import numpy as np\n",
    "np.sqrt(784)"
   ]
  },
  {
   "cell_type": "code",
   "execution_count": 9,
   "metadata": {},
   "outputs": [
    {
     "data": {
      "text/plain": [
       "2007040000"
      ]
     },
     "execution_count": 9,
     "metadata": {},
     "output_type": "execute_result"
    }
   ],
   "source": [
    "784*512*10*500"
   ]
  },
  {
   "cell_type": "code",
   "execution_count": 20,
   "metadata": {},
   "outputs": [],
   "source": [
    "import tensorflow as tf\n",
    "\n",
    "batch_size=128\n",
    "num_classes =10\n",
    "epochs=20\n",
    "\n",
    "(X_train,y_train),(X_test,y_test) = tf.keras.datasets.mnist.load_data()\n",
    "\n",
    "X_train =X_train.reshape(60000,784)\n",
    "X_test =X_test.reshape(10000,784)\n",
    "\n",
    "X_train=X_train.astype('float32')\n",
    "X_test=X_test.astype('float32')\n",
    "X_train /=255\n",
    "X_test /=255"
   ]
  },
  {
   "cell_type": "code",
   "execution_count": 21,
   "metadata": {},
   "outputs": [
    {
     "name": "stdout",
     "output_type": "stream",
     "text": [
      "Model: \"sequential_3\"\n",
      "_________________________________________________________________\n",
      " Layer (type)                Output Shape              Param #   \n",
      "=================================================================\n",
      " dense_6 (Dense)             (None, 512)               401920    \n",
      "                                                                 \n",
      " dense_7 (Dense)             (None, 10)                5130      \n",
      "                                                                 \n",
      "=================================================================\n",
      "Total params: 407,050\n",
      "Trainable params: 407,050\n",
      "Non-trainable params: 0\n",
      "_________________________________________________________________\n"
     ]
    },
    {
     "name": "stderr",
     "output_type": "stream",
     "text": [
      "WARNING:absl:`lr` is deprecated in Keras optimizer, please use `learning_rate` or use the legacy optimizer, e.g.,tf.keras.optimizers.legacy.SGD.\n"
     ]
    }
   ],
   "source": [
    "y_train= tf.keras.utils.to_categorical(y_train,num_classes)\n",
    "y_test= tf.keras.utils.to_categorical(y_test,num_classes)\n",
    "\n",
    "model=tf.keras.models.Sequential()\n",
    "model.add(tf.keras.layers.Dense(512,activation='relu',input_shape=(784,)))\n",
    "model.add(tf.keras.layers.Dense(num_classes,activation='softmax'))\n",
    "\n",
    "model.summary()\n",
    "\n",
    "sgd= tf.keras.optimizers.SGD(lr=0.1)"
   ]
  },
  {
   "cell_type": "code",
   "execution_count": 24,
   "metadata": {},
   "outputs": [
    {
     "name": "stdout",
     "output_type": "stream",
     "text": [
      "Epoch 1/20\n",
      "469/469 [==============================] - 2s 3ms/step - loss: 0.5869 - accuracy: 0.8619\n",
      "Epoch 2/20\n",
      "469/469 [==============================] - 2s 3ms/step - loss: 0.4400 - accuracy: 0.8870\n",
      "Epoch 3/20\n",
      "469/469 [==============================] - 1s 3ms/step - loss: 0.3839 - accuracy: 0.8968\n",
      "Epoch 4/20\n",
      "469/469 [==============================] - 2s 3ms/step - loss: 0.3519 - accuracy: 0.9036\n",
      "Epoch 5/20\n",
      "469/469 [==============================] - 1s 3ms/step - loss: 0.3300 - accuracy: 0.9089\n",
      "Epoch 6/20\n",
      "469/469 [==============================] - 1s 3ms/step - loss: 0.3132 - accuracy: 0.9133\n",
      "Epoch 7/20\n",
      "469/469 [==============================] - 2s 3ms/step - loss: 0.2997 - accuracy: 0.9159\n",
      "Epoch 8/20\n",
      "469/469 [==============================] - 1s 3ms/step - loss: 0.2882 - accuracy: 0.9194\n",
      "Epoch 9/20\n",
      "469/469 [==============================] - 2s 3ms/step - loss: 0.2780 - accuracy: 0.9222\n",
      "Epoch 10/20\n",
      "469/469 [==============================] - 1s 3ms/step - loss: 0.2690 - accuracy: 0.9249\n",
      "Epoch 11/20\n",
      "469/469 [==============================] - 2s 3ms/step - loss: 0.2609 - accuracy: 0.9271\n",
      "Epoch 12/20\n",
      "469/469 [==============================] - 1s 3ms/step - loss: 0.2533 - accuracy: 0.9297\n",
      "Epoch 13/20\n",
      "469/469 [==============================] - 2s 3ms/step - loss: 0.2463 - accuracy: 0.9318\n",
      "Epoch 14/20\n",
      "469/469 [==============================] - 1s 3ms/step - loss: 0.2400 - accuracy: 0.9333\n",
      "Epoch 15/20\n",
      "469/469 [==============================] - 2s 3ms/step - loss: 0.2340 - accuracy: 0.9351\n",
      "Epoch 16/20\n",
      "469/469 [==============================] - 1s 3ms/step - loss: 0.2283 - accuracy: 0.9364\n",
      "Epoch 17/20\n",
      "469/469 [==============================] - 1s 3ms/step - loss: 0.2230 - accuracy: 0.9379\n",
      "Epoch 18/20\n",
      "469/469 [==============================] - 2s 3ms/step - loss: 0.2178 - accuracy: 0.9393\n",
      "Epoch 19/20\n",
      "469/469 [==============================] - 1s 3ms/step - loss: 0.2131 - accuracy: 0.9408\n",
      "Epoch 20/20\n",
      "469/469 [==============================] - 2s 3ms/step - loss: 0.2085 - accuracy: 0.9423\n",
      "테스트 손실값: 0.20421981811523438\n",
      "테스트 정확도: 0.9416000247001648\n"
     ]
    }
   ],
   "source": [
    "model.compile(loss='categorical_crossentropy',\n",
    "              optimizer=sgd,\n",
    "              metrics=['accuracy'])\n",
    "\n",
    "history= model.fit(X_train,y_train,\n",
    "                   batch_size=batch_size,\n",
    "                   epochs=epochs)\n",
    "\n",
    "score= model.evaluate(X_test,y_test,verbose=0)\n",
    "print('테스트 손실값:',score[0])\n",
    "print('테스트 정확도:',score[1])"
   ]
  },
  {
   "cell_type": "code",
   "execution_count": 26,
   "metadata": {},
   "outputs": [
    {
     "name": "stdout",
     "output_type": "stream",
     "text": [
      "313/313 [==============================] - 1s 2ms/step\n"
     ]
    },
    {
     "data": {
      "text/plain": [
       "array([6.1772698e-05, 1.9301372e-07, 3.0651895e-04, 1.9262685e-03,\n",
       "       1.6108033e-06, 4.3657979e-05, 2.3089825e-08, 9.9724764e-01,\n",
       "       8.1489943e-06, 4.0410875e-04], dtype=float32)"
      ]
     },
     "execution_count": 26,
     "metadata": {},
     "output_type": "execute_result"
    }
   ],
   "source": [
    "model.predict(X_test)[0]"
   ]
  },
  {
   "cell_type": "code",
   "execution_count": 27,
   "metadata": {},
   "outputs": [
    {
     "data": {
      "text/plain": [
       "array([0., 0., 0., 0., 0., 0., 0., 1., 0., 0.], dtype=float32)"
      ]
     },
     "execution_count": 27,
     "metadata": {},
     "output_type": "execute_result"
    }
   ],
   "source": [
    "y_test[0]"
   ]
  },
  {
   "attachments": {},
   "cell_type": "markdown",
   "metadata": {},
   "source": [
    "## keras.optimizers.SGD()"
   ]
  },
  {
   "cell_type": "code",
   "execution_count": null,
   "metadata": {},
   "outputs": [],
   "source": []
  }
 ],
 "metadata": {
  "kernelspec": {
   "display_name": "Python 3",
   "language": "python",
   "name": "python3"
  },
  "language_info": {
   "codemirror_mode": {
    "name": "ipython",
    "version": 3
   },
   "file_extension": ".py",
   "mimetype": "text/x-python",
   "name": "python",
   "nbconvert_exporter": "python",
   "pygments_lexer": "ipython3",
   "version": "3.10.9"
  },
  "orig_nbformat": 4
 },
 "nbformat": 4,
 "nbformat_minor": 2
}
